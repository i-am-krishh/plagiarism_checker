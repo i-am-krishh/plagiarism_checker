{
 "cells": [
  {
   "cell_type": "markdown",
   "metadata": {},
   "source": [
    "# What is Plagiarsim?\n",
    "Plagiarism is the act of copying someone else's work, ideas, or expressions without giving them proper credit, making it appear as if it's original. This includes copying text, rephrasing ideas without acknowledgment, or using someone’s research, and is often considered unethical or dishonest.\n"
   ]
  },
  {
   "cell_type": "markdown",
   "metadata": {},
   "source": [
    "# Import Modules"
   ]
  },
  {
   "cell_type": "code",
   "execution_count": 6,
   "metadata": {},
   "outputs": [
    {
     "name": "stdout",
     "output_type": "stream",
     "text": [
      "Collecting pandas\n",
      "  Downloading pandas-2.2.3-cp312-cp312-win_amd64.whl.metadata (19 kB)\n",
      "Requirement already satisfied: numpy>=1.26.0 in c:\\python312\\lib\\site-packages (from pandas) (2.1.1)\n",
      "Requirement already satisfied: python-dateutil>=2.8.2 in c:\\users\\91902\\appdata\\roaming\\python\\python312\\site-packages (from pandas) (2.9.0.post0)\n",
      "Collecting pytz>=2020.1 (from pandas)\n",
      "  Downloading pytz-2024.2-py2.py3-none-any.whl.metadata (22 kB)\n",
      "Requirement already satisfied: tzdata>=2022.7 in c:\\python312\\lib\\site-packages (from pandas) (2024.1)\n",
      "Requirement already satisfied: six>=1.5 in c:\\users\\91902\\appdata\\roaming\\python\\python312\\site-packages (from python-dateutil>=2.8.2->pandas) (1.16.0)\n",
      "Downloading pandas-2.2.3-cp312-cp312-win_amd64.whl (11.5 MB)\n",
      "   ---------------------------------------- 0.0/11.5 MB ? eta -:--:--\n",
      "   ---------------------------------------- 0.0/11.5 MB 1.4 MB/s eta 0:00:09\n",
      "   ---------------------------------------- 0.1/11.5 MB 825.8 kB/s eta 0:00:14\n",
      "   ---------------------------------------- 0.1/11.5 MB 845.5 kB/s eta 0:00:14\n",
      "    --------------------------------------- 0.2/11.5 MB 1.2 MB/s eta 0:00:10\n",
      "    --------------------------------------- 0.2/11.5 MB 1.2 MB/s eta 0:00:10\n",
      "   - -------------------------------------- 0.5/11.5 MB 1.8 MB/s eta 0:00:07\n",
      "   - -------------------------------------- 0.5/11.5 MB 1.8 MB/s eta 0:00:07\n",
      "   -- ------------------------------------- 0.7/11.5 MB 2.0 MB/s eta 0:00:06\n",
      "   --- ------------------------------------ 1.0/11.5 MB 2.5 MB/s eta 0:00:05\n",
      "   ---- ----------------------------------- 1.2/11.5 MB 2.9 MB/s eta 0:00:04\n",
      "   ---- ----------------------------------- 1.3/11.5 MB 2.9 MB/s eta 0:00:04\n",
      "   ----- ---------------------------------- 1.6/11.5 MB 3.1 MB/s eta 0:00:04\n",
      "   ------ --------------------------------- 1.9/11.5 MB 3.4 MB/s eta 0:00:03\n",
      "   ------- -------------------------------- 2.1/11.5 MB 3.5 MB/s eta 0:00:03\n",
      "   -------- ------------------------------- 2.4/11.5 MB 3.7 MB/s eta 0:00:03\n",
      "   --------- ------------------------------ 2.6/11.5 MB 3.8 MB/s eta 0:00:03\n",
      "   --------- ------------------------------ 2.8/11.5 MB 3.9 MB/s eta 0:00:03\n",
      "   ---------- ----------------------------- 3.1/11.5 MB 4.0 MB/s eta 0:00:03\n",
      "   ----------- ---------------------------- 3.5/11.5 MB 4.2 MB/s eta 0:00:02\n",
      "   ------------- -------------------------- 3.8/11.5 MB 4.3 MB/s eta 0:00:02\n",
      "   ------------- -------------------------- 4.0/11.5 MB 4.4 MB/s eta 0:00:02\n",
      "   -------------- ------------------------- 4.3/11.5 MB 4.4 MB/s eta 0:00:02\n",
      "   --------------- ------------------------ 4.6/11.5 MB 4.5 MB/s eta 0:00:02\n",
      "   ---------------- ----------------------- 4.9/11.5 MB 4.6 MB/s eta 0:00:02\n",
      "   ----------------- ---------------------- 5.2/11.5 MB 4.7 MB/s eta 0:00:02\n",
      "   ------------------- -------------------- 5.5/11.5 MB 4.8 MB/s eta 0:00:02\n",
      "   -------------------- ------------------- 5.8/11.5 MB 4.8 MB/s eta 0:00:02\n",
      "   --------------------- ------------------ 6.0/11.5 MB 4.8 MB/s eta 0:00:02\n",
      "   --------------------- ------------------ 6.3/11.5 MB 4.9 MB/s eta 0:00:02\n",
      "   ---------------------- ----------------- 6.6/11.5 MB 4.9 MB/s eta 0:00:02\n",
      "   ----------------------- ---------------- 6.8/11.5 MB 4.9 MB/s eta 0:00:01\n",
      "   ------------------------ --------------- 7.1/11.5 MB 4.9 MB/s eta 0:00:01\n",
      "   ------------------------- -------------- 7.3/11.5 MB 5.0 MB/s eta 0:00:01\n",
      "   -------------------------- ------------- 7.5/11.5 MB 5.0 MB/s eta 0:00:01\n",
      "   -------------------------- ------------- 7.8/11.5 MB 5.0 MB/s eta 0:00:01\n",
      "   --------------------------- ------------ 8.0/11.5 MB 5.0 MB/s eta 0:00:01\n",
      "   ---------------------------- ----------- 8.3/11.5 MB 5.0 MB/s eta 0:00:01\n",
      "   ----------------------------- ---------- 8.5/11.5 MB 5.1 MB/s eta 0:00:01\n",
      "   ------------------------------ --------- 8.8/11.5 MB 5.0 MB/s eta 0:00:01\n",
      "   ------------------------------- -------- 9.1/11.5 MB 5.1 MB/s eta 0:00:01\n",
      "   -------------------------------- ------- 9.4/11.5 MB 5.1 MB/s eta 0:00:01\n",
      "   --------------------------------- ------ 9.6/11.5 MB 5.1 MB/s eta 0:00:01\n",
      "   ---------------------------------- ----- 9.9/11.5 MB 5.1 MB/s eta 0:00:01\n",
      "   ---------------------------------- ----- 10.0/11.5 MB 5.1 MB/s eta 0:00:01\n",
      "   ----------------------------------- ---- 10.3/11.5 MB 5.3 MB/s eta 0:00:01\n",
      "   ------------------------------------ --- 10.6/11.5 MB 5.5 MB/s eta 0:00:01\n",
      "   ------------------------------------- -- 10.7/11.5 MB 5.6 MB/s eta 0:00:01\n",
      "   -------------------------------------- - 11.0/11.5 MB 5.7 MB/s eta 0:00:01\n",
      "   ---------------------------------------  11.2/11.5 MB 5.6 MB/s eta 0:00:01\n",
      "   ---------------------------------------  11.5/11.5 MB 5.6 MB/s eta 0:00:01\n",
      "   ---------------------------------------  11.5/11.5 MB 5.6 MB/s eta 0:00:01\n",
      "   ---------------------------------------- 11.5/11.5 MB 5.5 MB/s eta 0:00:00\n",
      "Downloading pytz-2024.2-py2.py3-none-any.whl (508 kB)\n",
      "   ---------------------------------------- 0.0/508.0 kB ? eta -:--:--\n",
      "   ------------------ --------------------- 235.5/508.0 kB 7.0 MB/s eta 0:00:01\n",
      "   ---------------------------------------  501.8/508.0 kB 6.2 MB/s eta 0:00:01\n",
      "   ---------------------------------------- 508.0/508.0 kB 6.3 MB/s eta 0:00:00\n",
      "Installing collected packages: pytz, pandas\n",
      "Successfully installed pandas-2.2.3 pytz-2024.2\n"
     ]
    },
    {
     "name": "stderr",
     "output_type": "stream",
     "text": [
      "\n",
      "[notice] A new release of pip is available: 24.0 -> 24.3.1\n",
      "[notice] To update, run: python.exe -m pip install --upgrade pip\n"
     ]
    }
   ],
   "source": [
    "!pip install pandas"
   ]
  },
  {
   "cell_type": "code",
   "execution_count": 7,
   "metadata": {},
   "outputs": [
    {
     "name": "stderr",
     "output_type": "stream",
     "text": [
      "[nltk_data] Downloading collection 'popular'\n",
      "[nltk_data]    | \n",
      "[nltk_data]    | Downloading package cmudict to\n",
      "[nltk_data]    |     C:\\Users\\91902\\AppData\\Roaming\\nltk_data...\n",
      "[nltk_data]    |   Package cmudict is already up-to-date!\n",
      "[nltk_data]    | Downloading package gazetteers to\n",
      "[nltk_data]    |     C:\\Users\\91902\\AppData\\Roaming\\nltk_data...\n",
      "[nltk_data]    |   Package gazetteers is already up-to-date!\n",
      "[nltk_data]    | Downloading package genesis to\n",
      "[nltk_data]    |     C:\\Users\\91902\\AppData\\Roaming\\nltk_data...\n",
      "[nltk_data]    |   Package genesis is already up-to-date!\n",
      "[nltk_data]    | Downloading package gutenberg to\n",
      "[nltk_data]    |     C:\\Users\\91902\\AppData\\Roaming\\nltk_data...\n",
      "[nltk_data]    |   Package gutenberg is already up-to-date!\n",
      "[nltk_data]    | Downloading package inaugural to\n",
      "[nltk_data]    |     C:\\Users\\91902\\AppData\\Roaming\\nltk_data...\n",
      "[nltk_data]    |   Package inaugural is already up-to-date!\n",
      "[nltk_data]    | Downloading package movie_reviews to\n",
      "[nltk_data]    |     C:\\Users\\91902\\AppData\\Roaming\\nltk_data...\n",
      "[nltk_data]    |   Package movie_reviews is already up-to-date!\n",
      "[nltk_data]    | Downloading package names to\n",
      "[nltk_data]    |     C:\\Users\\91902\\AppData\\Roaming\\nltk_data...\n",
      "[nltk_data]    |   Package names is already up-to-date!\n",
      "[nltk_data]    | Downloading package shakespeare to\n",
      "[nltk_data]    |     C:\\Users\\91902\\AppData\\Roaming\\nltk_data...\n",
      "[nltk_data]    |   Package shakespeare is already up-to-date!\n",
      "[nltk_data]    | Downloading package stopwords to\n",
      "[nltk_data]    |     C:\\Users\\91902\\AppData\\Roaming\\nltk_data...\n",
      "[nltk_data]    |   Package stopwords is already up-to-date!\n",
      "[nltk_data]    | Downloading package treebank to\n",
      "[nltk_data]    |     C:\\Users\\91902\\AppData\\Roaming\\nltk_data...\n",
      "[nltk_data]    |   Package treebank is already up-to-date!\n",
      "[nltk_data]    | Downloading package twitter_samples to\n",
      "[nltk_data]    |     C:\\Users\\91902\\AppData\\Roaming\\nltk_data...\n",
      "[nltk_data]    |   Package twitter_samples is already up-to-date!\n",
      "[nltk_data]    | Downloading package omw to\n",
      "[nltk_data]    |     C:\\Users\\91902\\AppData\\Roaming\\nltk_data...\n",
      "[nltk_data]    |   Package omw is already up-to-date!\n",
      "[nltk_data]    | Downloading package omw-1.4 to\n",
      "[nltk_data]    |     C:\\Users\\91902\\AppData\\Roaming\\nltk_data...\n",
      "[nltk_data]    |   Package omw-1.4 is already up-to-date!\n",
      "[nltk_data]    | Downloading package wordnet to\n",
      "[nltk_data]    |     C:\\Users\\91902\\AppData\\Roaming\\nltk_data...\n",
      "[nltk_data]    |   Package wordnet is already up-to-date!\n",
      "[nltk_data]    | Downloading package wordnet2021 to\n",
      "[nltk_data]    |     C:\\Users\\91902\\AppData\\Roaming\\nltk_data...\n",
      "[nltk_data]    |   Package wordnet2021 is already up-to-date!\n",
      "[nltk_data]    | Downloading package wordnet31 to\n",
      "[nltk_data]    |     C:\\Users\\91902\\AppData\\Roaming\\nltk_data...\n",
      "[nltk_data]    |   Package wordnet31 is already up-to-date!\n",
      "[nltk_data]    | Downloading package wordnet_ic to\n",
      "[nltk_data]    |     C:\\Users\\91902\\AppData\\Roaming\\nltk_data...\n",
      "[nltk_data]    |   Package wordnet_ic is already up-to-date!\n",
      "[nltk_data]    | Downloading package words to\n",
      "[nltk_data]    |     C:\\Users\\91902\\AppData\\Roaming\\nltk_data...\n",
      "[nltk_data]    |   Package words is already up-to-date!\n",
      "[nltk_data]    | Downloading package maxent_ne_chunker to\n",
      "[nltk_data]    |     C:\\Users\\91902\\AppData\\Roaming\\nltk_data...\n",
      "[nltk_data]    |   Package maxent_ne_chunker is already up-to-date!\n",
      "[nltk_data]    | Downloading package punkt to\n",
      "[nltk_data]    |     C:\\Users\\91902\\AppData\\Roaming\\nltk_data...\n",
      "[nltk_data]    |   Package punkt is already up-to-date!\n",
      "[nltk_data]    | Downloading package snowball_data to\n",
      "[nltk_data]    |     C:\\Users\\91902\\AppData\\Roaming\\nltk_data...\n",
      "[nltk_data]    |   Package snowball_data is already up-to-date!\n",
      "[nltk_data]    | Downloading package averaged_perceptron_tagger to\n",
      "[nltk_data]    |     C:\\Users\\91902\\AppData\\Roaming\\nltk_data...\n",
      "[nltk_data]    |   Package averaged_perceptron_tagger is already up-\n",
      "[nltk_data]    |       to-date!\n",
      "[nltk_data]    | \n",
      "[nltk_data]  Done downloading collection popular\n"
     ]
    }
   ],
   "source": [
    "import nltk\n",
    "nltk.download(\"popular\")\n",
    "from sklearn.metrics.pairwise import cosine_similarity\n",
    "import pandas as pd\n",
    "import string\n",
    "from nltk.corpus import stopwords\n",
    "import joblib\n",
    "from sklearn.linear_model import LogisticRegression\n",
    "from sklearn.model_selection import train_test_split\n",
    "from sklearn.metrics import accuracy_score, classification_report,confusion_matrix\n",
    "from sklearn.feature_extraction.text import TfidfVectorizer"
   ]
  },
  {
   "cell_type": "code",
   "execution_count": 8,
   "metadata": {},
   "outputs": [
    {
     "data": {
      "text/html": [
       "<div>\n",
       "<style scoped>\n",
       "    .dataframe tbody tr th:only-of-type {\n",
       "        vertical-align: middle;\n",
       "    }\n",
       "\n",
       "    .dataframe tbody tr th {\n",
       "        vertical-align: top;\n",
       "    }\n",
       "\n",
       "    .dataframe thead th {\n",
       "        text-align: right;\n",
       "    }\n",
       "</style>\n",
       "<table border=\"1\" class=\"dataframe\">\n",
       "  <thead>\n",
       "    <tr style=\"text-align: right;\">\n",
       "      <th></th>\n",
       "      <th>Unnamed: 0</th>\n",
       "      <th>source_text</th>\n",
       "      <th>plagiarized_text</th>\n",
       "      <th>label</th>\n",
       "    </tr>\n",
       "  </thead>\n",
       "  <tbody>\n",
       "    <tr>\n",
       "      <th>0</th>\n",
       "      <td>0</td>\n",
       "      <td>Researchers have discovered a new species of b...</td>\n",
       "      <td>Scientists have found a previously unknown but...</td>\n",
       "      <td>1</td>\n",
       "    </tr>\n",
       "    <tr>\n",
       "      <th>1</th>\n",
       "      <td>1</td>\n",
       "      <td>The moon orbits the Earth in approximately 27....</td>\n",
       "      <td>Our natural satellite takes around 27.3 days t...</td>\n",
       "      <td>1</td>\n",
       "    </tr>\n",
       "    <tr>\n",
       "      <th>2</th>\n",
       "      <td>2</td>\n",
       "      <td>Water is composed of two hydrogen atoms and on...</td>\n",
       "      <td>H2O consists of 2 hydrogen atoms and 1 oxygen ...</td>\n",
       "      <td>1</td>\n",
       "    </tr>\n",
       "    <tr>\n",
       "      <th>3</th>\n",
       "      <td>3</td>\n",
       "      <td>The history of Rome dates back to 753 BC.</td>\n",
       "      <td>Rome has a long history that can be traced bac...</td>\n",
       "      <td>1</td>\n",
       "    </tr>\n",
       "    <tr>\n",
       "      <th>4</th>\n",
       "      <td>4</td>\n",
       "      <td>Pluto was once considered the ninth planet in ...</td>\n",
       "      <td>In the past, Pluto was classified as the ninth...</td>\n",
       "      <td>1</td>\n",
       "    </tr>\n",
       "  </tbody>\n",
       "</table>\n",
       "</div>"
      ],
      "text/plain": [
       "   Unnamed: 0                                        source_text  \\\n",
       "0           0  Researchers have discovered a new species of b...   \n",
       "1           1  The moon orbits the Earth in approximately 27....   \n",
       "2           2  Water is composed of two hydrogen atoms and on...   \n",
       "3           3          The history of Rome dates back to 753 BC.   \n",
       "4           4  Pluto was once considered the ninth planet in ...   \n",
       "\n",
       "                                    plagiarized_text  label  \n",
       "0  Scientists have found a previously unknown but...      1  \n",
       "1  Our natural satellite takes around 27.3 days t...      1  \n",
       "2  H2O consists of 2 hydrogen atoms and 1 oxygen ...      1  \n",
       "3  Rome has a long history that can be traced bac...      1  \n",
       "4  In the past, Pluto was classified as the ninth...      1  "
      ]
     },
     "execution_count": 8,
     "metadata": {},
     "output_type": "execute_result"
    }
   ],
   "source": [
    "data = pd.read_csv(\"dataset.csv\")\n",
    "data.head()"
   ]
  },
  {
   "cell_type": "code",
   "execution_count": 9,
   "metadata": {},
   "outputs": [
    {
     "data": {
      "text/plain": [
       "label\n",
       "0    187\n",
       "1    183\n",
       "Name: count, dtype: int64"
      ]
     },
     "execution_count": 9,
     "metadata": {},
     "output_type": "execute_result"
    }
   ],
   "source": [
    "data['label'].value_counts()"
   ]
  }
 ],
 "metadata": {
  "language_info": {
   "name": "python"
  }
 },
 "nbformat": 4,
 "nbformat_minor": 2
}
